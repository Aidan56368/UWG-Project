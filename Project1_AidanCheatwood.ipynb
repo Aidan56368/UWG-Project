{
 "cells": [
  {
   "cell_type": "markdown",
   "id": "b93b951c",
   "metadata": {},
   "source": [
    "## GitHub Link: https://github.com/Aidan56368/UWG-Project"
   ]
  },
  {
   "cell_type": "markdown",
   "id": "4db24908",
   "metadata": {},
   "source": [
    "# Step 1: Problem Statements"
   ]
  },
  {
   "cell_type": "markdown",
   "id": "e4f0d709",
   "metadata": {},
   "source": [
    "## Loading the data"
   ]
  },
  {
   "cell_type": "code",
   "execution_count": 159,
   "id": "0ef89195",
   "metadata": {},
   "outputs": [
    {
     "data": {
      "text/html": [
       "<div>\n",
       "<style scoped>\n",
       "    .dataframe tbody tr th:only-of-type {\n",
       "        vertical-align: middle;\n",
       "    }\n",
       "\n",
       "    .dataframe tbody tr th {\n",
       "        vertical-align: top;\n",
       "    }\n",
       "\n",
       "    .dataframe thead th {\n",
       "        text-align: right;\n",
       "    }\n",
       "</style>\n",
       "<table border=\"1\" class=\"dataframe\">\n",
       "  <thead>\n",
       "    <tr style=\"text-align: right;\">\n",
       "      <th></th>\n",
       "      <th>Name</th>\n",
       "      <th>Action</th>\n",
       "      <th>2018/19</th>\n",
       "      <th>2019/20</th>\n",
       "      <th>2020/21</th>\n",
       "      <th>2021/22</th>\n",
       "      <th>2022/23</th>\n",
       "      <th>May2023/24</th>\n",
       "    </tr>\n",
       "  </thead>\n",
       "  <tbody>\n",
       "    <tr>\n",
       "      <th>0</th>\n",
       "      <td>Algeria</td>\n",
       "      <td>consumption</td>\n",
       "      <td>2,080</td>\n",
       "      <td>2,124</td>\n",
       "      <td>1,936</td>\n",
       "      <td>1,889</td>\n",
       "      <td>1,682</td>\n",
       "      <td>1,897</td>\n",
       "    </tr>\n",
       "    <tr>\n",
       "      <th>1</th>\n",
       "      <td>Algeria</td>\n",
       "      <td>ending</td>\n",
       "      <td>420</td>\n",
       "      <td>430</td>\n",
       "      <td>387</td>\n",
       "      <td>377</td>\n",
       "      <td>336</td>\n",
       "      <td>375</td>\n",
       "    </tr>\n",
       "    <tr>\n",
       "      <th>2</th>\n",
       "      <td>Algeria</td>\n",
       "      <td>export</td>\n",
       "      <td>208</td>\n",
       "      <td>334</td>\n",
       "      <td>364</td>\n",
       "      <td>366</td>\n",
       "      <td>360</td>\n",
       "      <td>365</td>\n",
       "    </tr>\n",
       "    <tr>\n",
       "      <th>3</th>\n",
       "      <td>Algeria</td>\n",
       "      <td>import</td>\n",
       "      <td>2,328</td>\n",
       "      <td>2,468</td>\n",
       "      <td>2,257</td>\n",
       "      <td>2,245</td>\n",
       "      <td>2,001</td>\n",
       "      <td>2,301</td>\n",
       "    </tr>\n",
       "    <tr>\n",
       "      <th>4</th>\n",
       "      <td>Argentina</td>\n",
       "      <td>production</td>\n",
       "      <td>1,570</td>\n",
       "      <td>1,750</td>\n",
       "      <td>1,830</td>\n",
       "      <td>1,700</td>\n",
       "      <td>1,670</td>\n",
       "      <td>1,690</td>\n",
       "    </tr>\n",
       "    <tr>\n",
       "      <th>...</th>\n",
       "      <td>...</td>\n",
       "      <td>...</td>\n",
       "      <td>...</td>\n",
       "      <td>...</td>\n",
       "      <td>...</td>\n",
       "      <td>...</td>\n",
       "      <td>...</td>\n",
       "      <td>...</td>\n",
       "    </tr>\n",
       "    <tr>\n",
       "      <th>130</th>\n",
       "      <td>Vietnam</td>\n",
       "      <td>ending</td>\n",
       "      <td>320</td>\n",
       "      <td>415</td>\n",
       "      <td>415</td>\n",
       "      <td>455</td>\n",
       "      <td>485</td>\n",
       "      <td>505</td>\n",
       "    </tr>\n",
       "    <tr>\n",
       "      <th>131</th>\n",
       "      <td>Vietnam</td>\n",
       "      <td>import</td>\n",
       "      <td>303</td>\n",
       "      <td>1,312</td>\n",
       "      <td>1,325</td>\n",
       "      <td>1,490</td>\n",
       "      <td>1,520</td>\n",
       "      <td>1,575</td>\n",
       "    </tr>\n",
       "    <tr>\n",
       "      <th>132</th>\n",
       "      <td>Vietnam</td>\n",
       "      <td>production</td>\n",
       "      <td>1,300</td>\n",
       "      <td>850</td>\n",
       "      <td>750</td>\n",
       "      <td>820</td>\n",
       "      <td>950</td>\n",
       "      <td>975</td>\n",
       "    </tr>\n",
       "    <tr>\n",
       "      <th>133</th>\n",
       "      <td>Yemen</td>\n",
       "      <td>import</td>\n",
       "      <td>667</td>\n",
       "      <td>770</td>\n",
       "      <td>941</td>\n",
       "      <td>466</td>\n",
       "      <td>775</td>\n",
       "      <td>875</td>\n",
       "    </tr>\n",
       "    <tr>\n",
       "      <th>134</th>\n",
       "      <td>Zimbabwe</td>\n",
       "      <td>ending</td>\n",
       "      <td>36</td>\n",
       "      <td>60</td>\n",
       "      <td>82</td>\n",
       "      <td>186</td>\n",
       "      <td>295</td>\n",
       "      <td>406</td>\n",
       "    </tr>\n",
       "  </tbody>\n",
       "</table>\n",
       "<p>135 rows × 8 columns</p>\n",
       "</div>"
      ],
      "text/plain": [
       "          Name       Action 2018/19 2019/20 2020/21 2021/22 2022/23 May2023/24\n",
       "0      Algeria  consumption   2,080   2,124   1,936   1,889   1,682      1,897\n",
       "1      Algeria       ending     420     430     387     377     336        375\n",
       "2      Algeria       export     208     334     364     366     360        365\n",
       "3      Algeria       import   2,328   2,468   2,257   2,245   2,001      2,301\n",
       "4    Argentina   production   1,570   1,750   1,830   1,700   1,670      1,690\n",
       "..         ...          ...     ...     ...     ...     ...     ...        ...\n",
       "130    Vietnam       ending     320     415     415     455     485        505\n",
       "131    Vietnam       import     303   1,312   1,325   1,490   1,520      1,575\n",
       "132    Vietnam   production   1,300     850     750     820     950        975\n",
       "133      Yemen       import     667     770     941     466     775        875\n",
       "134   Zimbabwe       ending      36      60      82     186     295        406\n",
       "\n",
       "[135 rows x 8 columns]"
      ]
     },
     "execution_count": 159,
     "metadata": {},
     "output_type": "execute_result"
    }
   ],
   "source": [
    "import pandas as pd\n",
    "\n",
    "df = pd.read_csv(\"combined_df.csv\")\n",
    "\n",
    "df\n"
   ]
  },
  {
   "cell_type": "markdown",
   "id": "44693c32",
   "metadata": {},
   "source": [
    "## Data Description and the rest of the project"
   ]
  },
  {
   "cell_type": "markdown",
   "id": "7d60f78b",
   "metadata": {},
   "source": [
    "The provided dataset contains information about sugar production, consumption, import, export, and ending for various countries from 2018 to 2024 and I aquired this data set using this link: https://www.kaggle.com/datasets/muhammadtalhaawan/world-sugar-dataset-2018-2024?resource=download"
   ]
  },
  {
   "cell_type": "markdown",
   "id": "929cd442",
   "metadata": {},
   "source": [
    "Main Inquiry Question:\n",
    "\n",
    "How has the consumption of sugar changed over the years in the top 5 countries?\n",
    "\n",
    "Sub-questions:\n",
    "\n",
    "1. Which country mantains first position in the data set for most consumption the longest?\n",
    "\n",
    "2. Which country saw the most change throughout the years in regards to sugar consumption?\n",
    "\n",
    "3. Which country saw the least change throughout the years?"
   ]
  },
  {
   "cell_type": "markdown",
   "id": "3177174f",
   "metadata": {},
   "source": [
    "# Step 2: Data Cleaning"
   ]
  },
  {
   "cell_type": "markdown",
   "id": "dddfe24c",
   "metadata": {},
   "source": [
    "## Part A"
   ]
  },
  {
   "cell_type": "markdown",
   "id": "d4c5d86a",
   "metadata": {},
   "source": [
    "I use all columns and rows in the dataset, so I don't think I should drop any features in the data set. Without all of the data in the columns, the data set will be incomplete and it will affect the final result. "
   ]
  },
  {
   "cell_type": "markdown",
   "id": "bf080f80",
   "metadata": {},
   "source": [
    "## Part B"
   ]
  },
  {
   "cell_type": "markdown",
   "id": "3f8ae876",
   "metadata": {},
   "source": [
    "There shouldn't be any empty or missing values to replace or address, but we will check anyways, if there isn't, we will do nothing."
   ]
  },
  {
   "cell_type": "code",
   "execution_count": 160,
   "id": "4740f84a",
   "metadata": {},
   "outputs": [
    {
     "name": "stdout",
     "output_type": "stream",
     "text": [
      "Series([], dtype: int64)\n"
     ]
    }
   ],
   "source": [
    "import pandas as pd\n",
    "\n",
    "data = pd.read_csv('combined_df.csv')\n",
    "\n",
    "missing_values = data.isnull().sum()\n",
    "\n",
    "print(missing_values[missing_values > 0])\n"
   ]
  },
  {
   "cell_type": "markdown",
   "id": "6cc30d56",
   "metadata": {},
   "source": [
    "## Part C"
   ]
  },
  {
   "cell_type": "markdown",
   "id": "d39787b8",
   "metadata": {},
   "source": [
    "I will check for any duplicates and address them if present. If no duplicates are present, I will make no changes."
   ]
  },
  {
   "cell_type": "code",
   "execution_count": 161,
   "id": "ae32ef30",
   "metadata": {},
   "outputs": [
    {
     "name": "stdout",
     "output_type": "stream",
     "text": [
      "Number of duplicate rows: 0\n"
     ]
    }
   ],
   "source": [
    "duplicates = data.duplicated()\n",
    "\n",
    "print(\"Number of duplicate rows:\", duplicates.sum())\n",
    "\n",
    "data = data[~duplicates]\n"
   ]
  },
  {
   "cell_type": "markdown",
   "id": "33290fe5",
   "metadata": {},
   "source": [
    "## Part D"
   ]
  },
  {
   "cell_type": "markdown",
   "id": "1c2c5d12",
   "metadata": {},
   "source": [
    "I will check the dataTypes for all of the columns and if they are incorrect I will make changes to correct them."
   ]
  },
  {
   "cell_type": "code",
   "execution_count": 162,
   "id": "cc2428cd",
   "metadata": {},
   "outputs": [
    {
     "name": "stdout",
     "output_type": "stream",
     "text": [
      "Name           object\n",
      "Action         object\n",
      "2018/19       float64\n",
      "2019/20       float64\n",
      "2020/21       float64\n",
      "2021/22       float64\n",
      "2022/23       float64\n",
      "May2023/24    float64\n",
      "dtype: object\n"
     ]
    }
   ],
   "source": [
    "data['2018/19'] = pd.to_numeric(data['2018/19'], errors='coerce')\n",
    "data['2019/20'] = pd.to_numeric(data['2019/20'], errors='coerce')\n",
    "data['2020/21'] = pd.to_numeric(data['2020/21'], errors='coerce')\n",
    "data['2021/22'] = pd.to_numeric(data['2021/22'], errors='coerce')\n",
    "data['2022/23'] = pd.to_numeric(data['2022/23'], errors='coerce')\n",
    "data['May2023/24'] = pd.to_numeric(data['May2023/24'], errors='coerce')\n",
    "\n",
    "data_types = data.dtypes\n",
    "print(data_types)\n"
   ]
  },
  {
   "cell_type": "markdown",
   "id": "1a6e4c17",
   "metadata": {},
   "source": [
    "## Part E"
   ]
  },
  {
   "cell_type": "markdown",
   "id": "76b872f9",
   "metadata": {},
   "source": [
    "I will check to ensure that each country and action is represented in the same manner throughout the data. Essentially, I will change the text for the action and name to convert all to lowercase and trim the spaces off them and remove the commas from the numbers. Then I will check for the unique names and actions in the data set and display them and return the new data set."
   ]
  },
  {
   "cell_type": "code",
   "execution_count": 217,
   "id": "a189e78c",
   "metadata": {},
   "outputs": [
    {
     "name": "stdout",
     "output_type": "stream",
     "text": [
      "Unique Names: ['algeria' 'argentina' 'australia' 'bangladesh' 'brazil' 'canada' 'chile'\n",
      " 'china' 'colombia' 'costa_rica' 'ecuador' 'egypt' 'el_salvador'\n",
      " 'eswatini' 'ethiopia' 'european_union' 'guatemala' 'india' 'indonesia'\n",
      " 'iran' 'iraq' 'japan' 'kazakhstan' 'korea_south' 'malaysia' 'mauritius'\n",
      " 'mexico' 'morocco' 'nicaragua' 'nigeria' 'other' 'pakistan' 'peru'\n",
      " 'philippines' 'russia' 'saudi_arabia' 'somalia' 'south_africa' 'sudan'\n",
      " 'thailand' 'total' 'turkey' 'ukraine' 'united_arab_emirates'\n",
      " 'united_kingdom' 'united_states' 'vietnam' 'yemen' 'zimbabwe']\n",
      "Unique Actions: ['consumption' 'ending' 'export' 'import' 'production']\n"
     ]
    }
   ],
   "source": [
    "import pandas as pd\n",
    "\n",
    "def clean_and_standardize_data(data_file):\n",
    "    data = pd.read_csv(data_file)\n",
    "    \n",
    "    numeric_columns = ['2018/19', '2019/20', '2020/21', '2021/22', '2022/23', 'May2023/24']\n",
    "    \n",
    "    for column in numeric_columns:\n",
    "        data[column] = data[column].str.replace(',', '').astype(float)\n",
    "    \n",
    "    data['Name'] = data['Name'].str.lower().str.strip()\n",
    "    data['Action'] = data['Action'].str.lower().str.strip()\n",
    "    \n",
    "    unique_names = data['Name'].unique()\n",
    "    unique_actions = data['Action'].unique()\n",
    "    \n",
    "    print(\"Unique Names:\", unique_names)\n",
    "    print(\"Unique Actions:\", unique_actions)\n",
    "    \n",
    "    return data\n",
    "\n",
    "cleaned_data = clean_and_standardize_data('combined_df.csv')"
   ]
  },
  {
   "cell_type": "markdown",
   "id": "3a8a88be",
   "metadata": {},
   "source": [
    "## Part F"
   ]
  },
  {
   "cell_type": "markdown",
   "id": "3141ab55",
   "metadata": {},
   "source": [
    "I will check the data set for any outliers and if they exist I will remove them from the data set, otherwise, I will be leaving all of the data alone."
   ]
  },
  {
   "cell_type": "code",
   "execution_count": 220,
   "id": "6d093f69",
   "metadata": {
    "scrolled": true
   },
   "outputs": [
    {
     "name": "stdout",
     "output_type": "stream",
     "text": [
      "Number of outliers flagged in 'consumption_data': 18\n"
     ]
    }
   ],
   "source": [
    "import pandas as pd\n",
    "import numpy as np\n",
    "\n",
    "# Assuming you have a DataFrame named 'cleaned_data' that contains the provided dataset\n",
    "\n",
    "numeric_columns = ['2018/19', '2019/20', '2020/21', '2021/22', '2022/23', 'May2023/24']\n",
    "\n",
    "# Filter the dataset to keep only rows with Action \"consumption\" and create a copy\n",
    "consumption_data = cleaned_data[cleaned_data['Action'] == 'consumption'].copy()\n",
    "\n",
    "# Create a function to remove outliers without changing the dataset\n",
    "def remove_outliers(df, columns):\n",
    "    for column in columns:\n",
    "        Q1 = df[column].quantile(0.25)\n",
    "        Q3 = df[column].quantile(0.75)\n",
    "        IQR = Q3 - Q1\n",
    "        lower_bound = Q1 - 1.5 * IQR\n",
    "        upper_bound = Q3 + 1.5 * IQR\n",
    "        # Apply outlier removal condition only to the specified column in the copied DataFrame\n",
    "        df.loc[(df[column] < lower_bound) | (df[column] > upper_bound), column] = np.nan\n",
    "    return df\n",
    "\n",
    "# Apply the function to remove outliers for numeric columns in the \"consumption_data\" DataFrame\n",
    "consumption_data = remove_outliers(consumption_data, numeric_columns)\n",
    "\n",
    "# You can count the number of flagged outliers if needed\n",
    "num_outliers_flagged = consumption_data[numeric_columns].isna().sum().sum()\n",
    "\n",
    "print(\"Number of outliers flagged in 'consumption_data':\", num_outliers_flagged)\n"
   ]
  },
  {
   "cell_type": "markdown",
   "id": "bdd26053",
   "metadata": {},
   "source": [
    "There were outliers present in my dataset, therefore, I removed them from the data."
   ]
  },
  {
   "cell_type": "markdown",
   "id": "5d8bbe3c",
   "metadata": {},
   "source": [
    "# Step 3: Exploratory data Analysis and Interpretation of the results"
   ]
  },
  {
   "cell_type": "markdown",
   "id": "48856fce",
   "metadata": {},
   "source": [
    "## Part A"
   ]
  },
  {
   "cell_type": "markdown",
   "id": "7e0172fb",
   "metadata": {},
   "source": [
    "### In the following pivot table, I show the data of sugar consumption in each of the top 5 countries of sugar consumption to make it easier to view the data. "
   ]
  },
  {
   "cell_type": "code",
   "execution_count": 221,
   "id": "90b1e95d",
   "metadata": {},
   "outputs": [
    {
     "name": "stdout",
     "output_type": "stream",
     "text": [
      "Consumption of Sugar for the Top 5 Countries:\n",
      "               2018/19  2019/20  2020/21  2021/22  2022/23  May2023/24\n",
      "Name                                                                  \n",
      "brazil         10600.0  10650.0  10150.0   9500.0   9500.0      9542.0\n",
      "china          15800.0  15400.0  15500.0  14800.0  15500.0     15600.0\n",
      "india          27500.0  27000.0  28000.0  29000.0  29500.0     31000.0\n",
      "thailand        2480.0   2360.0   2350.0   3000.0   3100.0      3210.0\n",
      "united_states  10982.0  11109.0  11032.0  11314.0  11498.0     11499.0\n"
     ]
    }
   ],
   "source": [
    "top_5_countries = ['united_states', 'china', 'india', 'thailand', 'brazil']\n",
    "\n",
    "top_5_countries = [country.lower().strip() for country in top_5_countries]\n",
    "\n",
    "top_5_data = cleaned_data[cleaned_data['Name'].isin(top_5_countries)]\n",
    "\n",
    "consumption_data = top_5_data[top_5_data['Action'] == 'consumption']\n",
    "\n",
    "years_columns = ['2018/19', '2019/20', '2020/21', '2021/22', '2022/23', 'May2023/24']\n",
    "consumption_data = consumption_data[['Name'] + years_columns]\n",
    "\n",
    "pivot_table = consumption_data.pivot_table(index='Name', aggfunc='sum')\n",
    "\n",
    "print(\"Consumption of Sugar for the Top 5 Countries:\")\n",
    "print(pivot_table)"
   ]
  },
  {
   "cell_type": "markdown",
   "id": "ad8d0b1f",
   "metadata": {},
   "source": [
    "## Part B"
   ]
  },
  {
   "cell_type": "markdown",
   "id": "e9a2ddd0",
   "metadata": {},
   "source": [
    "### In the following graph, I display the relationships and evolution of sugar consumption among the top 5 countries throughout the years."
   ]
  },
  {
   "cell_type": "code",
   "execution_count": 222,
   "id": "0814759e",
   "metadata": {},
   "outputs": [
    {
     "data": {
      "image/png": "[encoded data removed]",
      "text/plain": [
       "<Figure size 1200x600 with 1 Axes>"
      ]
     },
     "metadata": {},
     "output_type": "display_data"
    }
   ],
   "source": [
    "import matplotlib.pyplot as plt\n",
    "import pandas as pd\n",
    "\n",
    "data = {\n",
    "    'Name': ['brazil', 'china', 'india', 'thailand', 'united_states'],\n",
    "    '2018/19': [10600, 15800, 27500, 2480, 10982],\n",
    "    '2019/20': [10650, 15400, 27000, 2360, 11109],\n",
    "    '2020/21': [10150, 15500, 28000, 2350, 11032],\n",
    "    '2021/22': [9500, 14800, 29000, 3000, 11314],\n",
    "    '2022/23': [9500, 15500, 29500, 3100, 11498],\n",
    "    'May2023/24': [9542, 15600, 31000, 3210, 11499]\n",
    "}\n",
    "\n",
    "df = pd.DataFrame(data)\n",
    "\n",
    "df.set_index('Name', inplace=True)\n",
    "\n",
    "plt.figure(figsize=(12, 6))\n",
    "\n",
    "for country in df.index:\n",
    "    plt.plot(df.columns, df.loc[country], label=country.capitalize())\n",
    "\n",
    "plt.xlabel('Years')\n",
    "plt.ylabel('Sugar Consumption')\n",
    "plt.title('Sugar Consumption for the Top 5 Countries Over the Years')\n",
    "\n",
    "plt.legend()\n",
    "\n",
    "plt.grid()\n",
    "plt.show()\n"
   ]
  },
  {
   "cell_type": "markdown",
   "id": "0480a94e",
   "metadata": {},
   "source": [
    "## Part C"
   ]
  },
  {
   "cell_type": "markdown",
   "id": "f047bcfe",
   "metadata": {},
   "source": [
    "Graph Explaination: \n",
    "\n",
    "The graph above shows the top 5 sugar-consuming countries and how much sugar each one consumes(y-axis) throughout the years 2018 - 2024(x-axis). In the graph, you can see that India remained the highest sugar consumers out of them all starting high and ending even higher on the graph. Second, we have China which sees minial changes throughout the years, but does decrease a little in the year 2021/2022. Third, we have the United States which only sees a slight increase in sugar consumption thoughout the years. Fourth, opposite to the US, Brazil sees a slight decrease from 2018/2019. Finally, in fifth Thailand sees virtually no changes throughout the entire period, only seeing a very small increase beginning in the year 2021/2022.\n",
    "\n",
    "Main Question:\n",
    "\n",
    "1. To answer the main question, Sugar consumption rates among the top 5 sugar consuming countries saw little change throughout the years besides India's growth in the final years according to the graph shown above.\n",
    "\n",
    "Sub-Questions:\n",
    "\n",
    "1. The country that maintains the top position the longest throughout the years on the graph is India by a long shot. No other country even came close to taking over India in their sugar consumption rates. \n",
    "\n",
    "2. The country that saw the most change in their sugar consumption rates throughout the years was India. They saw a decently large increase in their sugar consumption from the year 2019/2020 through 2023/2024.\n",
    "\n",
    "3. The country that saw the least changes in their sugar consumption through out the years was Thailand where they seemingly started and ended at nearly the same value after all of the years. "
   ]
  },
  {
   "cell_type": "markdown",
   "id": "645840b0",
   "metadata": {},
   "source": [
    "# Step 4: Summary"
   ]
  },
  {
   "cell_type": "markdown",
   "id": "6a161a14",
   "metadata": {},
   "source": [
    "In this project, we conducted an analysis of the global sugar market from 2018 to 2024, focusing on the consumption patterns among the top 5 sugar-consuming countries. Our findings shed light on some interesting aspects of sugar consumption trends. Notably, we observed that these top 5 countries exhibited relatively stable sugar consumption rates over the years, defying initial expectations of drastic fluctuations. India emerged as the dominant major consumer, maintaining its top position throughout the entire period. It significantly outperformed other countries in terms of sugar consumption, demonstrating its steadfast position in the global sugar market.\n",
    "\n",
    "Digging deeper into our sub-questions, we discovered that India's sugar consumption witnessed significant growth from 2019/2020 through 2023/2024. This substantial increase sets India apart from the other top 5 countries, indicating changing dietary habits or economic factors at play within the country. Conversely, Thailand stood out for its consistent sugar consumption, with minimal changes observed over the years. This suggests that Thailand's sugar consumption patterns have remained relatively stable, possibly influenced by consistent factors such as cultural practices or economic stability.\n",
    "\n",
    "However, our analysis also revealed certain limitations. Despite the stability in consumption rates among the top 5 countries, we were unable to identify the specific driving forces behind these trends. Further exploration is needed to better understand the factors contributing to the steady sugar consumption patterns. Additionally, examining external factors such as global economic conditions, trade policies, and dietary preferences could provide valuable insights into the global sugar market's dynamics. Further research in these areas could enhance our understanding of the complex interplay between consumer behavior and external factors in the context of sugar consumption."
   ]
  }
 ],
 "metadata": {
  "kernelspec": {
   "display_name": "Python 3 (ipykernel)",
   "language": "python",
   "name": "python3"
  },
  "language_info": {
   "codemirror_mode": {
    "name": "ipython",
    "version": 3
   },
   "file_extension": ".py",
   "mimetype": "text/x-python",
   "name": "python",
   "nbconvert_exporter": "python",
   "pygments_lexer": "ipython3",
   "version": "3.11.4"
  }
 },
 "nbformat": 4,
 "nbformat_minor": 5
}
